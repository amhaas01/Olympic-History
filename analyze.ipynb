{
 "cells": [
  {
   "cell_type": "code",
   "execution_count": 12,
   "metadata": {},
   "outputs": [
    {
     "name": "stdout",
     "output_type": "stream",
     "text": [
      "Country Code     object\n",
      "1960            float64\n",
      "1961            float64\n",
      "1962            float64\n",
      "1963            float64\n",
      "                 ...   \n",
      "2017            float64\n",
      "2018            float64\n",
      "2019            float64\n",
      "2020            float64\n",
      "2021            float64\n",
      "Length: 63, dtype: object\n",
      "The original number is : 149742351\n",
      "The number after inserting commas : 149,742,351\n"
     ]
    }
   ],
   "source": [
    "import pandas as pd\n",
    "import numpy as np\n",
    "\n",
    "# Read in Data files\n",
    "P1_df = pd.read_csv('data/Olympic_Data.csv')\n",
    "P2_df = pd.read_csv('data/Population.csv')\n",
    "\n",
    "# drop unneeded columns\n",
    "P2_df=P2_df.drop(['Country Name', 'Indicator Name', 'Indicator Code'], axis =1)\n",
    "\n",
    "print(P2_df.dtypes)\n",
    "\n",
    "# rename columns\n",
    "fixed_columns = {\n",
    "    'Country Code':'NOC',\n",
    "}\n",
    "\n",
    "P2_df.rename(columns=fixed_columns,inplace=True)\n",
    "P2_df.columns\n",
    "\n",
    "# converting to number\n",
    "\n",
    "P2_df_1960 = int(P2_df['1965'][1])\n",
    "\n",
    "print(\"The original number is : \" + str(int(P2_df_1960)))\n",
    "\n",
    "# Using str.format()\n",
    "# Adding comma between numbers\n",
    "res = ('{:,}'.format(P2_df_1960))\n",
    "\n",
    "# printing result\n",
    "print(\"The number after inserting commas : \" + str(res))"
   ]
  }
 ],
 "metadata": {
  "kernelspec": {
   "display_name": "venv",
   "language": "python",
   "name": "python3"
  },
  "language_info": {
   "codemirror_mode": {
    "name": "ipython",
    "version": 3
   },
   "file_extension": ".py",
   "mimetype": "text/x-python",
   "name": "python",
   "nbconvert_exporter": "python",
   "pygments_lexer": "ipython3",
   "version": "3.11.1"
  },
  "orig_nbformat": 4
 },
 "nbformat": 4,
 "nbformat_minor": 2
}
