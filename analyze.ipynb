{
 "cells": [
  {
   "cell_type": "code",
   "execution_count": 38,
   "metadata": {},
   "outputs": [
    {
     "name": "stdout",
     "output_type": "stream",
     "text": [
      "0      ABW\n",
      "1      AFE\n",
      "3      AFW\n",
      "4      AGO\n",
      "5      ALB\n",
      "      ... \n",
      "261    XKX\n",
      "262    YEM\n",
      "263    ZAF\n",
      "264    ZMB\n",
      "265    ZWE\n",
      "Name: NOC, Length: 179, dtype: object\n"
     ]
    }
   ],
   "source": [
    "import pandas as pd\n",
    "import numpy as np\n",
    "import select as sql   \n",
    "\n",
    "# Read in Data files\n",
    "P1_df = pd.read_csv('data/Olympic_Data.csv')\n",
    "P2_df = pd.read_csv('data/Population.csv')\n",
    "\n",
    "# drop unneeded columns\n",
    "P2_df=P2_df.drop(['Rank', 'Country/Territory', 'Captial', 'Continent'], axis =1)\n",
    "P1_df=P1_df.drop(['ID', 'Games','Height', 'Weight', 'Team'], axis =1)\n",
    "\n",
    "# drop olympians that didnt medal\n",
    "P1_df.dropna(subset = ['Medal'], inplace=True)\n",
    "#P1_df.head()\n",
    "\n",
    "# rename columns\n",
    "P2_df.rename(columns = {'Country Code':'NOC'}, inplace = True)\n",
    "\n",
    "#identify NOC that is not the same\n",
    "df1=P1_df['NOC'].unique()\n",
    "df2=P2_df['NOC'].unique()\n",
    "x=pd.concat([P1_df,P2_df])\n",
    "x=pd.unique(x['NOC'])\n",
    "y=P1_df[~P1_df['NOC'].isin(P2_df['NOC'].drop_duplicates())]\n",
    "z=P2_df[~P2_df['NOC'].isin(P1_df['NOC'].drop_duplicates())]\n",
    "print(z['NOC'].drop_duplicates())"
   ]
  },
  {
   "cell_type": "code",
   "execution_count": null,
   "metadata": {},
   "outputs": [],
   "source": []
  }
 ],
 "metadata": {
  "kernelspec": {
   "display_name": "venv",
   "language": "python",
   "name": "python3"
  },
  "language_info": {
   "codemirror_mode": {
    "name": "ipython",
    "version": 3
   },
   "file_extension": ".py",
   "mimetype": "text/x-python",
   "name": "python",
   "nbconvert_exporter": "python",
   "pygments_lexer": "ipython3",
   "version": "3.11.1"
  },
  "orig_nbformat": 4
 },
 "nbformat": 4,
 "nbformat_minor": 2
}
