{
 "cells": [
  {
   "cell_type": "markdown",
   "metadata": {},
   "source": [
    "# Olympic History\n",
    "\n",
    "- Most medals per country\n",
    "- Ratio of medals based on sport\n",
    "- Top 3 Olympians in Summer & Winter"
   ]
  },
  {
   "cell_type": "code",
   "execution_count": 2,
   "metadata": {},
   "outputs": [],
   "source": [
    "import pandas as pd\n",
    "import numpy as np\n",
    "import select as sql  \n",
    "import seaborn as sns\n",
    "import matplotlib.pyplot as plt\n",
    "\n"
   ]
  },
  {
   "cell_type": "markdown",
   "metadata": {},
   "source": [
    "Most medals per country"
   ]
  },
  {
   "cell_type": "code",
   "execution_count": 3,
   "metadata": {},
   "outputs": [
    {
     "data": {
      "text/plain": [
       "NOC\n",
       "USA    5637\n",
       "URS    2503\n",
       "DEU    2165\n",
       "Name: Medal, dtype: int64"
      ]
     },
     "execution_count": 3,
     "metadata": {},
     "output_type": "execute_result"
    }
   ],
   "source": [
    "clean_df = pd.read_csv('results/clean.csv')\n",
    "clean_df.groupby(by='NOC')['Medal'].count().sort_values(ascending=False).head(3)"
   ]
  },
  {
   "cell_type": "markdown",
   "metadata": {},
   "source": [
    "Sort by Medals and type"
   ]
  },
  {
   "cell_type": "code",
   "execution_count": 19,
   "metadata": {},
   "outputs": [
    {
     "name": "stdout",
     "output_type": "stream",
     "text": [
      "    Medal  NOC  count\n",
      "0    Gold  USA   2638\n",
      "1  Silver  USA   1641\n",
      "2  Bronze  USA   1358\n",
      "3    Gold  URS   1082\n",
      "4  Bronze  DEU    746\n",
      "5    Gold  DEU    745\n",
      "6  Silver  GBR    739\n",
      "7  Silver  URS    732\n",
      "8  Bronze  URS    689\n",
      "9    Gold  GBR    678\n"
     ]
    }
   ],
   "source": [
    "x=clean_df[['Medal', 'NOC']].value_counts().reset_index(name='count')\n",
    "print(x.head(10))"
   ]
  }
 ],
 "metadata": {
  "kernelspec": {
   "display_name": "venv",
   "language": "python",
   "name": "python3"
  },
  "language_info": {
   "codemirror_mode": {
    "name": "ipython",
    "version": 3
   },
   "file_extension": ".py",
   "mimetype": "text/x-python",
   "name": "python",
   "nbconvert_exporter": "python",
   "pygments_lexer": "ipython3",
   "version": "3.11.1"
  },
  "orig_nbformat": 4
 },
 "nbformat": 4,
 "nbformat_minor": 2
}
